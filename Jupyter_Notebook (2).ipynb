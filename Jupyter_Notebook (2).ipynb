{
 "cells": [
  {
   "cell_type": "markdown",
   "metadata": {},
   "source": [
    "<center>\n",
    "    <img src=\"https://cf-courses-data.s3.us.cloud-object-storage.appdomain.cloud/IBMDeveloperSkillsNetwork-DS0105EN-SkillsNetwork/labs/Module2/images/SN_web_lightmode.png\" width=\"300\" alt=\"cognitiveclass.ai logo\">\n",
    "</center>\n"
   ]
  },
  {
   "cell_type": "markdown",
   "metadata": {},
   "source": [
    "#### Add your code below following the instructions given in the course\n"
   ]
  },
  {
   "cell_type": "markdown",
   "metadata": {},
   "source": [
    "# Notebook Title"
   ]
  },
  {
   "cell_type": "markdown",
   "metadata": {},
   "source": [
    "## Introduction\n",
    "\n",
    "Welcome to this notebook!\n",
    "\n",
    "Let's get started!\n"
   ]
  },
  {
   "cell_type": "markdown",
   "metadata": {},
   "source": [
    "## Data Science Languages\n",
    "\n",
    "Data science involves working with various programming languages to analyze and manipulate data. Some popular data science languages include:\n",
    "\n",
    "1. **Python**: Python is one of the most widely used languages in data science due to its versatility, ease of use, and extensive libraries like NumPy, Pandas, and Matplotlib.\n",
    "\n",
    "2. **R**: R is another popular language specifically designed for statistical computing and data analysis. It offers a wide range of packages for data manipulation and visualization.\n",
    "\n",
    "3. **SQL**: Structured Query Language (SQL) is essential for working with databases and conducting database queries to extract and analyze data.\n",
    "\n",
    "4. **Julia**: Julia is a high-level, high-performance language for technical computing, suitable for data science and scientific computing tasks.\n",
    "\n",
    "5. **Scala**: Scala is a programming language that runs on the Java Virtual Machine (JVM) and is often used in big data processing with tools like Apache Spark.\n",
    "\n",
    "6. **Java**: Java is a general-purpose programming language, and it is commonly used for data engineering tasks and building scalable applications.\n",
    "\n",
    "7. **JavaScript**: JavaScript is widely used for web-based data visualization and interactive data applications.\n",
    "\n",
    "These languages offer various tools and libraries that cater to different aspects of data science, from data cleaning and manipulation to statistical analysis and machine learning.\n"
   ]
  },
  {
   "cell_type": "markdown",
   "metadata": {},
   "source": [
    "## Data Science Libraries\n",
    "\n",
    "Data science libraries play a crucial role in data analysis, machine learning, and visualization. Here are some widely used data science libraries:\n",
    "\n",
    "1. **NumPy**: NumPy is a fundamental library for numerical computing in Python, providing support for multi-dimensional arrays and mathematical functions.\n",
    "\n",
    "2. **Pandas**: Pandas is a powerful library for data manipulation and analysis, offering data structures like DataFrame and tools for handling missing data and time series.\n",
    "\n",
    "3. **Matplotlib**: Matplotlib is a widely used plotting library in Python, allowing you to create various types of static, interactive, and publication-quality visualizations.\n",
    "\n",
    "4. **Seaborn**: Seaborn is a data visualization library based on Matplotlib, providing a higher-level interface for creating attractive statistical graphics.\n",
    "\n",
    "5. **Scikit-learn**: Scikit-learn is a comprehensive machine learning library in Python, offering various algorithms for classification, regression, clustering, and more.\n",
    "\n",
    "6. **TensorFlow**: TensorFlow is an open-source deep learning library developed by Google, enabling efficient computation of data flow graphs for training and deploying machine learning models.\n",
    "\n",
    "7. **PyTorch**: PyTorch is another popular deep learning library known for its dynamic computation graph and ease of use, making it a favorite among researchers and developers.\n",
    "\n",
    "8. **Lattice**: It is a high-level data visualization library that canhandle graphics without customizations.\n",
    "\n",
    "9. **Scipy**: Scipy is a collection of scientific computing tools that complements NumPy, offering additional functionalities for optimization, integration, interpolation, and more.\n",
    "\n",
    "10. **ggplot2**: A popular library for data visualization in R.\n",
    "\n",
    "These libraries, along with many others, form the foundation of data science workflows, enabling data professionals to analyze data, build models, and derive valuable insights.\n"
   ]
  },
  {
   "cell_type": "markdown",
   "metadata": {},
   "source": [
    "## Data Science Tools\n",
    "\n",
    "| Tool           | Description                                             |\n",
    "|----------------|---------------------------------------------------------|\n",
    "| **Python**     | Versatile programming language with rich data science libraries like NumPy, Pandas, Matplotlib, Scikit-learn, and more. |\n",
    "| **R**          | Specialized language for statistical computing and data analysis, with extensive packages like ggplot2, dplyr, and tidyr. |\n",
    "| **SQL**        | Query language for managing and analyzing structured data in relational databases. |\n",
    "| **Jupyter**    | Interactive computing environment for data analysis and visualization, supporting multiple programming languages. |\n",
    "| **Tableau**    | Data visualization tool with a user-friendly interface, ideal for creating interactive dashboards and reports. |\n",
    "| **Power BI**   | Business intelligence tool for data visualization, data modeling, and interactive reports. |\n",
    "| **Excel**      | Widely used spreadsheet software, often used for basic data analysis and reporting. |\n",
    "| **Apache Spark** | Distributed data processing engine, suitable for big data analytics and machine learning. |\n",
    "| **D3.js**      | JavaScript library for creating interactive data visualizations on the web. |\n",
    "| **TensorBoard** | Visualization toolkit for TensorFlow, useful for monitoring and debugging machine learning models. |\n",
    "| **Git**        | Version control system for collaborative development and managing code changes. |\n",
    "| **scikit-image** | Library for image processing and computer vision tasks in Python. |\n",
    "| **NLTK**       | Natural Language Toolkit for processing and analyzing human language data in Python. |\n",
    "| **Apache Hadoop** | Framework for distributed storage and processing of big data. |\n",
    "| **Apache Kafka** | Distributed streaming platform for handling real-time data feeds. |\n"
   ]
  },
  {
   "cell_type": "markdown",
   "metadata": {},
   "source": [
    "## Arithmetic Expression Examples\n",
    "\n",
    "Arithmetic expressions involve mathematical operations such as addition, subtraction, multiplication, and division, allowing us to perform calculations and solve mathematical problems. Here are some examples of arithmetic expressions:\n"
   ]
  },
  {
   "cell_type": "code",
   "execution_count": null,
   "metadata": {},
   "outputs": [],
   "source": [
    "# Multiplication\n",
    "result_multiply = 5 * 7\n",
    "print(\"Result of multiplication:\", result_multiply)\n",
    "\n",
    "# Addition\n",
    "result_add = 12 + 8\n",
    "print(\"Result of addition:\", result_add)\n"
   ]
  },
  {
   "cell_type": "code",
   "execution_count": null,
   "metadata": {},
   "outputs": [],
   "source": [
    "# Input: Number of minutes\n",
    "minutes = 135\n",
    "\n",
    "# Conversion to hours and minutes\n",
    "hours = minutes // 60\n",
    "remaining_minutes = minutes % 60\n",
    "\n",
    "# Output\n",
    "print(f\"{minutes} minutes is equal to {hours} hours and {remaining_minutes} minutes.\")\n"
   ]
  },
  {
   "cell_type": "markdown",
   "metadata": {},
   "source": [
    "## Objectives\n",
    "\n",
    "The main objectives of this task are as follows:\n",
    "\n",
    "1. Demonstrate the use of Python code to convert minutes to hours.\n",
    "2. Learn to perform integer division and modulus operations in Python.\n",
    "3. Practice formatting the output to display the conversion result in hours and minutes.\n",
    "4. Understand the concept of converting time units in programming.\n",
    "5. Gain hands-on experience with Jupyter Notebook and code cell execution.\n",
    "\n",
    "Feel free to experiment with the code and explore different conversion scenarios for minutes to hours. Have fun learning and coding!\n"
   ]
  },
  {
   "cell_type": "markdown",
   "metadata": {},
   "source": [
    "**Author**: Elena Dubina"
   ]
  }
 ],
 "metadata": {
  "kernelspec": {
   "display_name": "Python",
   "language": "python",
   "name": "conda-env-python-py"
  },
  "language_info": {
   "codemirror_mode": {
    "name": "ipython",
    "version": 3
   },
   "file_extension": ".py",
   "mimetype": "text/x-python",
   "name": "python",
   "nbconvert_exporter": "python",
   "pygments_lexer": "ipython3",
   "version": "3.7.12"
  }
 },
 "nbformat": 4,
 "nbformat_minor": 4
}
